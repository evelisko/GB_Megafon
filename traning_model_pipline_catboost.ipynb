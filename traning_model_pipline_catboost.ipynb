{
 "cells": [
  {
   "cell_type": "code",
   "execution_count": 24,
   "metadata": {},
   "outputs": [],
   "source": [
    "import numpy as np\n",
    "import pandas as pd\n",
    "import pickle\n",
    "import itertools\n",
    "import matplotlib.pyplot as plt\n",
    "from sklearn.pipeline import Pipeline\n",
    "from sklearn.metrics import confusion_matrix\n",
    "from sklearn.model_selection import train_test_split\n",
    "from sklearn.impute import SimpleImputer\n",
    "from imblearn.under_sampling import RandomUnderSampler\n",
    "from sklearn.pipeline import FeatureUnion, make_pipeline\n",
    "from sklearn.base import BaseEstimator, TransformerMixin\n",
    "from sklearn.preprocessing import StandardScaler, OneHotEncoder\n",
    "from sklearn.decomposition import TruncatedSVD\n",
    "from sklearn.metrics import classification_report\n",
    "from sklearn.metrics import precision_recall_curve, roc_curve, auc\n",
    "import catboost as catb"
   ]
  },
  {
   "cell_type": "code",
   "execution_count": 2,
   "metadata": {},
   "outputs": [],
   "source": [
    "RANDOM_STATE = 888"
   ]
  },
  {
   "cell_type": "code",
   "execution_count": 3,
   "metadata": {},
   "outputs": [],
   "source": [
    "ANSWER_TEST_PATH = 'data/answers_test.csv'\n",
    "users_data_df_PATH = 'data/data_test.csv'\n",
    "DATA_TRAIN_FEATURES_PATH = 'data/data_train_features.csv'\n",
    "DATA_TEST_FEATURES_PATH = 'data/data_test_features.csv'"
   ]
  },
  {
   "cell_type": "markdown",
   "metadata": {},
   "source": [
    "### 1. Получаем данные. "
   ]
  },
  {
   "cell_type": "code",
   "execution_count": 4,
   "metadata": {},
   "outputs": [
    {
     "data": {
      "text/html": [
       "<div>\n",
       "<style scoped>\n",
       "    .dataframe tbody tr th:only-of-type {\n",
       "        vertical-align: middle;\n",
       "    }\n",
       "\n",
       "    .dataframe tbody tr th {\n",
       "        vertical-align: top;\n",
       "    }\n",
       "\n",
       "    .dataframe thead th {\n",
       "        text-align: right;\n",
       "    }\n",
       "</style>\n",
       "<table border=\"1\" class=\"dataframe\">\n",
       "  <thead>\n",
       "    <tr style=\"text-align: right;\">\n",
       "      <th></th>\n",
       "      <th>id</th>\n",
       "      <th>vas_id</th>\n",
       "      <th>target</th>\n",
       "      <th>0</th>\n",
       "      <th>1</th>\n",
       "      <th>2</th>\n",
       "      <th>3</th>\n",
       "      <th>4</th>\n",
       "      <th>5</th>\n",
       "      <th>6</th>\n",
       "      <th>...</th>\n",
       "      <th>246</th>\n",
       "      <th>247</th>\n",
       "      <th>248</th>\n",
       "      <th>249</th>\n",
       "      <th>250</th>\n",
       "      <th>251</th>\n",
       "      <th>252</th>\n",
       "      <th>week_on_month</th>\n",
       "      <th>day</th>\n",
       "      <th>month</th>\n",
       "    </tr>\n",
       "  </thead>\n",
       "  <tbody>\n",
       "    <tr>\n",
       "      <th>0</th>\n",
       "      <td>2814496</td>\n",
       "      <td>2.0</td>\n",
       "      <td>0.0</td>\n",
       "      <td>NaN</td>\n",
       "      <td>NaN</td>\n",
       "      <td>NaN</td>\n",
       "      <td>NaN</td>\n",
       "      <td>NaN</td>\n",
       "      <td>NaN</td>\n",
       "      <td>NaN</td>\n",
       "      <td>...</td>\n",
       "      <td>NaN</td>\n",
       "      <td>NaN</td>\n",
       "      <td>NaN</td>\n",
       "      <td>NaN</td>\n",
       "      <td>NaN</td>\n",
       "      <td>NaN</td>\n",
       "      <td>NaN</td>\n",
       "      <td>1</td>\n",
       "      <td>9</td>\n",
       "      <td>7</td>\n",
       "    </tr>\n",
       "    <tr>\n",
       "      <th>1</th>\n",
       "      <td>212196</td>\n",
       "      <td>5.0</td>\n",
       "      <td>0.0</td>\n",
       "      <td>NaN</td>\n",
       "      <td>NaN</td>\n",
       "      <td>NaN</td>\n",
       "      <td>NaN</td>\n",
       "      <td>NaN</td>\n",
       "      <td>NaN</td>\n",
       "      <td>NaN</td>\n",
       "      <td>...</td>\n",
       "      <td>NaN</td>\n",
       "      <td>NaN</td>\n",
       "      <td>NaN</td>\n",
       "      <td>NaN</td>\n",
       "      <td>NaN</td>\n",
       "      <td>NaN</td>\n",
       "      <td>NaN</td>\n",
       "      <td>1</td>\n",
       "      <td>9</td>\n",
       "      <td>7</td>\n",
       "    </tr>\n",
       "    <tr>\n",
       "      <th>2</th>\n",
       "      <td>3929509</td>\n",
       "      <td>2.0</td>\n",
       "      <td>0.0</td>\n",
       "      <td>NaN</td>\n",
       "      <td>NaN</td>\n",
       "      <td>NaN</td>\n",
       "      <td>NaN</td>\n",
       "      <td>NaN</td>\n",
       "      <td>NaN</td>\n",
       "      <td>NaN</td>\n",
       "      <td>...</td>\n",
       "      <td>NaN</td>\n",
       "      <td>NaN</td>\n",
       "      <td>NaN</td>\n",
       "      <td>NaN</td>\n",
       "      <td>NaN</td>\n",
       "      <td>NaN</td>\n",
       "      <td>NaN</td>\n",
       "      <td>1</td>\n",
       "      <td>9</td>\n",
       "      <td>7</td>\n",
       "    </tr>\n",
       "    <tr>\n",
       "      <th>3</th>\n",
       "      <td>2379697</td>\n",
       "      <td>2.0</td>\n",
       "      <td>0.0</td>\n",
       "      <td>NaN</td>\n",
       "      <td>NaN</td>\n",
       "      <td>NaN</td>\n",
       "      <td>NaN</td>\n",
       "      <td>NaN</td>\n",
       "      <td>NaN</td>\n",
       "      <td>NaN</td>\n",
       "      <td>...</td>\n",
       "      <td>NaN</td>\n",
       "      <td>NaN</td>\n",
       "      <td>NaN</td>\n",
       "      <td>NaN</td>\n",
       "      <td>NaN</td>\n",
       "      <td>NaN</td>\n",
       "      <td>NaN</td>\n",
       "      <td>1</td>\n",
       "      <td>9</td>\n",
       "      <td>7</td>\n",
       "    </tr>\n",
       "    <tr>\n",
       "      <th>4</th>\n",
       "      <td>415308</td>\n",
       "      <td>1.0</td>\n",
       "      <td>0.0</td>\n",
       "      <td>NaN</td>\n",
       "      <td>NaN</td>\n",
       "      <td>NaN</td>\n",
       "      <td>NaN</td>\n",
       "      <td>NaN</td>\n",
       "      <td>NaN</td>\n",
       "      <td>NaN</td>\n",
       "      <td>...</td>\n",
       "      <td>NaN</td>\n",
       "      <td>NaN</td>\n",
       "      <td>NaN</td>\n",
       "      <td>NaN</td>\n",
       "      <td>NaN</td>\n",
       "      <td>NaN</td>\n",
       "      <td>NaN</td>\n",
       "      <td>1</td>\n",
       "      <td>9</td>\n",
       "      <td>7</td>\n",
       "    </tr>\n",
       "  </tbody>\n",
       "</table>\n",
       "<p>5 rows × 259 columns</p>\n",
       "</div>"
      ],
      "text/plain": [
       "        id  vas_id  target   0   1   2   3   4   5   6  ...  246  247  248  \\\n",
       "0  2814496     2.0     0.0 NaN NaN NaN NaN NaN NaN NaN  ...  NaN  NaN  NaN   \n",
       "1   212196     5.0     0.0 NaN NaN NaN NaN NaN NaN NaN  ...  NaN  NaN  NaN   \n",
       "2  3929509     2.0     0.0 NaN NaN NaN NaN NaN NaN NaN  ...  NaN  NaN  NaN   \n",
       "3  2379697     2.0     0.0 NaN NaN NaN NaN NaN NaN NaN  ...  NaN  NaN  NaN   \n",
       "4   415308     1.0     0.0 NaN NaN NaN NaN NaN NaN NaN  ...  NaN  NaN  NaN   \n",
       "\n",
       "   249  250  251  252  week_on_month  day  month  \n",
       "0  NaN  NaN  NaN  NaN              1    9      7  \n",
       "1  NaN  NaN  NaN  NaN              1    9      7  \n",
       "2  NaN  NaN  NaN  NaN              1    9      7  \n",
       "3  NaN  NaN  NaN  NaN              1    9      7  \n",
       "4  NaN  NaN  NaN  NaN              1    9      7  \n",
       "\n",
       "[5 rows x 259 columns]"
      ]
     },
     "execution_count": 4,
     "metadata": {},
     "output_type": "execute_result"
    }
   ],
   "source": [
    "data_train  = pd.read_csv(DATA_TRAIN_FEATURES_PATH)\n",
    "\n",
    "data_train.head()"
   ]
  },
  {
   "cell_type": "code",
   "execution_count": 6,
   "metadata": {},
   "outputs": [],
   "source": [
    "# Разделим признаки и целевую переменную\n",
    "data_prelim = data_train.copy()\n",
    "\n",
    "X = data_prelim.drop('target', axis=1)\n",
    "y = data_prelim['target']"
   ]
  },
  {
   "cell_type": "code",
   "execution_count": 7,
   "metadata": {},
   "outputs": [],
   "source": [
    "X.loc[(X['252'] > 1, '252')] = 2.0"
   ]
  },
  {
   "cell_type": "code",
   "execution_count": 8,
   "metadata": {},
   "outputs": [
    {
     "data": {
      "text/html": [
       "<div>\n",
       "<style scoped>\n",
       "    .dataframe tbody tr th:only-of-type {\n",
       "        vertical-align: middle;\n",
       "    }\n",
       "\n",
       "    .dataframe tbody tr th {\n",
       "        vertical-align: top;\n",
       "    }\n",
       "\n",
       "    .dataframe thead th {\n",
       "        text-align: right;\n",
       "    }\n",
       "</style>\n",
       "<table border=\"1\" class=\"dataframe\">\n",
       "  <thead>\n",
       "    <tr style=\"text-align: right;\">\n",
       "      <th></th>\n",
       "      <th>id</th>\n",
       "      <th>vas_id</th>\n",
       "      <th>0</th>\n",
       "      <th>1</th>\n",
       "      <th>2</th>\n",
       "      <th>3</th>\n",
       "      <th>4</th>\n",
       "      <th>5</th>\n",
       "      <th>6</th>\n",
       "      <th>7</th>\n",
       "      <th>...</th>\n",
       "      <th>246</th>\n",
       "      <th>247</th>\n",
       "      <th>248</th>\n",
       "      <th>249</th>\n",
       "      <th>250</th>\n",
       "      <th>251</th>\n",
       "      <th>252</th>\n",
       "      <th>week_on_month</th>\n",
       "      <th>day</th>\n",
       "      <th>month</th>\n",
       "    </tr>\n",
       "  </thead>\n",
       "  <tbody>\n",
       "    <tr>\n",
       "      <th>0</th>\n",
       "      <td>2814496</td>\n",
       "      <td>2.0</td>\n",
       "      <td>NaN</td>\n",
       "      <td>NaN</td>\n",
       "      <td>NaN</td>\n",
       "      <td>NaN</td>\n",
       "      <td>NaN</td>\n",
       "      <td>NaN</td>\n",
       "      <td>NaN</td>\n",
       "      <td>NaN</td>\n",
       "      <td>...</td>\n",
       "      <td>NaN</td>\n",
       "      <td>NaN</td>\n",
       "      <td>NaN</td>\n",
       "      <td>NaN</td>\n",
       "      <td>NaN</td>\n",
       "      <td>NaN</td>\n",
       "      <td>NaN</td>\n",
       "      <td>1</td>\n",
       "      <td>9</td>\n",
       "      <td>7</td>\n",
       "    </tr>\n",
       "    <tr>\n",
       "      <th>1</th>\n",
       "      <td>212196</td>\n",
       "      <td>5.0</td>\n",
       "      <td>NaN</td>\n",
       "      <td>NaN</td>\n",
       "      <td>NaN</td>\n",
       "      <td>NaN</td>\n",
       "      <td>NaN</td>\n",
       "      <td>NaN</td>\n",
       "      <td>NaN</td>\n",
       "      <td>NaN</td>\n",
       "      <td>...</td>\n",
       "      <td>NaN</td>\n",
       "      <td>NaN</td>\n",
       "      <td>NaN</td>\n",
       "      <td>NaN</td>\n",
       "      <td>NaN</td>\n",
       "      <td>NaN</td>\n",
       "      <td>NaN</td>\n",
       "      <td>1</td>\n",
       "      <td>9</td>\n",
       "      <td>7</td>\n",
       "    </tr>\n",
       "    <tr>\n",
       "      <th>2</th>\n",
       "      <td>3929509</td>\n",
       "      <td>2.0</td>\n",
       "      <td>NaN</td>\n",
       "      <td>NaN</td>\n",
       "      <td>NaN</td>\n",
       "      <td>NaN</td>\n",
       "      <td>NaN</td>\n",
       "      <td>NaN</td>\n",
       "      <td>NaN</td>\n",
       "      <td>NaN</td>\n",
       "      <td>...</td>\n",
       "      <td>NaN</td>\n",
       "      <td>NaN</td>\n",
       "      <td>NaN</td>\n",
       "      <td>NaN</td>\n",
       "      <td>NaN</td>\n",
       "      <td>NaN</td>\n",
       "      <td>NaN</td>\n",
       "      <td>1</td>\n",
       "      <td>9</td>\n",
       "      <td>7</td>\n",
       "    </tr>\n",
       "    <tr>\n",
       "      <th>3</th>\n",
       "      <td>2379697</td>\n",
       "      <td>2.0</td>\n",
       "      <td>NaN</td>\n",
       "      <td>NaN</td>\n",
       "      <td>NaN</td>\n",
       "      <td>NaN</td>\n",
       "      <td>NaN</td>\n",
       "      <td>NaN</td>\n",
       "      <td>NaN</td>\n",
       "      <td>NaN</td>\n",
       "      <td>...</td>\n",
       "      <td>NaN</td>\n",
       "      <td>NaN</td>\n",
       "      <td>NaN</td>\n",
       "      <td>NaN</td>\n",
       "      <td>NaN</td>\n",
       "      <td>NaN</td>\n",
       "      <td>NaN</td>\n",
       "      <td>1</td>\n",
       "      <td>9</td>\n",
       "      <td>7</td>\n",
       "    </tr>\n",
       "    <tr>\n",
       "      <th>4</th>\n",
       "      <td>415308</td>\n",
       "      <td>1.0</td>\n",
       "      <td>NaN</td>\n",
       "      <td>NaN</td>\n",
       "      <td>NaN</td>\n",
       "      <td>NaN</td>\n",
       "      <td>NaN</td>\n",
       "      <td>NaN</td>\n",
       "      <td>NaN</td>\n",
       "      <td>NaN</td>\n",
       "      <td>...</td>\n",
       "      <td>NaN</td>\n",
       "      <td>NaN</td>\n",
       "      <td>NaN</td>\n",
       "      <td>NaN</td>\n",
       "      <td>NaN</td>\n",
       "      <td>NaN</td>\n",
       "      <td>NaN</td>\n",
       "      <td>1</td>\n",
       "      <td>9</td>\n",
       "      <td>7</td>\n",
       "    </tr>\n",
       "  </tbody>\n",
       "</table>\n",
       "<p>5 rows × 258 columns</p>\n",
       "</div>"
      ],
      "text/plain": [
       "        id  vas_id   0   1   2   3   4   5   6   7  ...  246  247  248  249  \\\n",
       "0  2814496     2.0 NaN NaN NaN NaN NaN NaN NaN NaN  ...  NaN  NaN  NaN  NaN   \n",
       "1   212196     5.0 NaN NaN NaN NaN NaN NaN NaN NaN  ...  NaN  NaN  NaN  NaN   \n",
       "2  3929509     2.0 NaN NaN NaN NaN NaN NaN NaN NaN  ...  NaN  NaN  NaN  NaN   \n",
       "3  2379697     2.0 NaN NaN NaN NaN NaN NaN NaN NaN  ...  NaN  NaN  NaN  NaN   \n",
       "4   415308     1.0 NaN NaN NaN NaN NaN NaN NaN NaN  ...  NaN  NaN  NaN  NaN   \n",
       "\n",
       "   250  251  252  week_on_month  day  month  \n",
       "0  NaN  NaN  NaN              1    9      7  \n",
       "1  NaN  NaN  NaN              1    9      7  \n",
       "2  NaN  NaN  NaN              1    9      7  \n",
       "3  NaN  NaN  NaN              1    9      7  \n",
       "4  NaN  NaN  NaN              1    9      7  \n",
       "\n",
       "[5 rows x 258 columns]"
      ]
     },
     "execution_count": 8,
     "metadata": {},
     "output_type": "execute_result"
    }
   ],
   "source": [
    "X.head()"
   ]
  },
  {
   "cell_type": "code",
   "execution_count": 9,
   "metadata": {},
   "outputs": [
    {
     "name": "stdout",
     "output_type": "stream",
     "text": [
      "ID уникален?  True\n",
      "Есть ли дубли в строках? 0\n",
      "Сколько процент признаков могут принимать null-значениями? 98%\n"
     ]
    }
   ],
   "source": [
    "print(\"ID уникален? \", X.index.is_unique)\n",
    "print(\"Есть ли дубли в строках?\", X.duplicated().sum())\n",
    "print(\"Сколько процент признаков могут принимать null-значениями? %d%%\" % float((X.isnull().sum() > 0).sum()/X.shape[1]*100))"
   ]
  },
  {
   "cell_type": "markdown",
   "metadata": {},
   "source": [
    "### 2. Опредлеяем типы переменных."
   ]
  },
  {
   "cell_type": "code",
   "execution_count": 10,
   "metadata": {},
   "outputs": [],
   "source": [
    "X_nunique = X.apply(lambda x: x.nunique(dropna=False))"
   ]
  },
  {
   "cell_type": "code",
   "execution_count": 11,
   "metadata": {},
   "outputs": [
    {
     "data": {
      "text/plain": [
       "id               795253\n",
       "vas_id                8\n",
       "0                 32463\n",
       "1                 83554\n",
       "2                 39758\n",
       "                  ...  \n",
       "251                 208\n",
       "252                   4\n",
       "week_on_month         5\n",
       "day                  21\n",
       "month                 6\n",
       "Length: 258, dtype: int64"
      ]
     },
     "execution_count": 11,
     "metadata": {},
     "output_type": "execute_result"
    }
   ],
   "source": [
    "X_nunique"
   ]
  },
  {
   "cell_type": "code",
   "execution_count": 12,
   "metadata": {},
   "outputs": [
    {
     "data": {
      "text/plain": [
       "258"
      ]
     },
     "execution_count": 12,
     "metadata": {},
     "output_type": "execute_result"
    }
   ],
   "source": [
    "f_all = set(X_nunique.index.tolist())\n",
    "len(f_all)"
   ]
  },
  {
   "cell_type": "code",
   "execution_count": 13,
   "metadata": {},
   "outputs": [
    {
     "data": {
      "text/plain": [
       "(0, 258)"
      ]
     },
     "execution_count": 13,
     "metadata": {},
     "output_type": "execute_result"
    }
   ],
   "source": [
    "#### Константные признаки\n",
    "f_const = set(X_nunique[X_nunique == 1].index.tolist())\n",
    "\n",
    "f_other = f_all - f_const\n",
    "len(f_const), len(f_other)"
   ]
  },
  {
   "cell_type": "code",
   "execution_count": 14,
   "metadata": {},
   "outputs": [
    {
     "data": {
      "text/plain": [
       "(0, 258)"
      ]
     },
     "execution_count": 14,
     "metadata": {},
     "output_type": "execute_result"
    }
   ],
   "source": [
    "#### Бинарные\n",
    "f_binary = set(X.loc[:, f_other].columns[(\n",
    "                      (X.loc[:, f_other].max() == 1) & \\\n",
    "                      (X.loc[:, f_other].min() == 0) & \\\n",
    "                      (X.loc[:, f_other].isnull().sum() == 0))])\n",
    "\n",
    "# f_other = f_all - (f_binary | f_const)\n",
    "f_other = f_other - f_binary\n",
    "\n",
    "len(f_binary), len(f_other)"
   ]
  },
  {
   "cell_type": "code",
   "execution_count": 15,
   "metadata": {},
   "outputs": [
    {
     "data": {
      "text/plain": [
       "(30, 228)"
      ]
     },
     "execution_count": 15,
     "metadata": {},
     "output_type": "execute_result"
    }
   ],
   "source": [
    "#### Категориальные\n",
    "f_categorical = set(X_nunique.loc[f_other][X_nunique.loc[f_other] <= 5].index.tolist())\n",
    "f_numeric_extra = f_categorical\n",
    "f_other = f_other - f_categorical\n",
    "\n",
    "len(f_categorical), len(f_other)"
   ]
  },
  {
   "cell_type": "code",
   "execution_count": 16,
   "metadata": {},
   "outputs": [
    {
     "data": {
      "text/plain": [
       "(224, 4)"
      ]
     },
     "execution_count": 16,
     "metadata": {},
     "output_type": "execute_result"
    }
   ],
   "source": [
    "#### Вещественные признаки\n",
    "f_numeric = (X[f_other].fillna(0).astype(int).sum() - X[f_other].fillna(0).sum()).abs() \n",
    "f_numeric = set(f_numeric[f_numeric > 0].index.tolist())\n",
    "f_other = f_other - f_numeric\n",
    "# f_other = f_all - (f_numeric | f_const)\n",
    "len(f_numeric), len(f_other)"
   ]
  },
  {
   "cell_type": "code",
   "execution_count": 17,
   "metadata": {},
   "outputs": [
    {
     "data": {
      "text/plain": [
       "0"
      ]
     },
     "execution_count": 17,
     "metadata": {},
     "output_type": "execute_result"
    }
   ],
   "source": [
    "f_numeric = f_numeric | f_other\n",
    "f_other = f_other - f_numeric\n",
    "len(f_other)"
   ]
  },
  {
   "cell_type": "code",
   "execution_count": 19,
   "metadata": {},
   "outputs": [
    {
     "name": "stdout",
     "output_type": "stream",
     "text": [
      "f_all: 258\n",
      "\n",
      "f_const: 0\n",
      "f_binary: 0\n",
      "f_categorical: 30\n",
      "f_numeric: 228\n"
     ]
    }
   ],
   "source": [
    "print('f_all:', len(f_all))\n",
    "print()\n",
    "print('f_const:', len(f_const))\n",
    "print('f_binary:', len(f_binary))\n",
    "print('f_categorical:', len(f_categorical))\n",
    "print('f_numeric:', len(f_numeric))\n",
    "\n",
    "f_ok = list(f_binary | f_categorical | f_numeric)\n",
    "f_binary, f_categorical, f_numeric = list(f_binary), list(f_categorical), list(f_numeric)"
   ]
  },
  {
   "cell_type": "markdown",
   "metadata": {},
   "source": [
    "### 3. Распределение на тенировочнуб и тесовую выборки."
   ]
  },
  {
   "cell_type": "code",
   "execution_count": 20,
   "metadata": {},
   "outputs": [],
   "source": [
    "train_idx, test_idx = train_test_split(X.index, test_size=0.25, random_state=RANDOM_STATE)\n",
    "\n",
    "y_train, y_test = y.loc[train_idx], y.loc[test_idx]\n",
    "x_train, x_test = X.loc[train_idx], X.loc[test_idx]"
   ]
  },
  {
   "cell_type": "markdown",
   "metadata": {},
   "source": [
    "### 4. Балансировка массивов."
   ]
  },
  {
   "cell_type": "code",
   "execution_count": 21,
   "metadata": {},
   "outputs": [
    {
     "data": {
      "text/plain": [
       "0.0    0.944645\n",
       "1.0    0.055355\n",
       "Name: target, dtype: float64"
      ]
     },
     "execution_count": 21,
     "metadata": {},
     "output_type": "execute_result"
    },
    {
     "data": {
      "image/png": "[encoded data removed]",
      "text/plain": [
       "<Figure size 432x288 with 1 Axes>"
      ]
     },
     "metadata": {
      "needs_background": "light"
     },
     "output_type": "display_data"
    }
   ],
   "source": [
    "(y.value_counts()/y.shape[0]).plot(kind='bar', title='Распределение целевой переменной');\n",
    "y.value_counts()/y.shape"
   ]
  },
  {
   "cell_type": "markdown",
   "metadata": {},
   "source": [
    "Видно, что процент в данных имеется очень сильный дисбаланс в распределении классов.\n",
    "\n",
    "Для того чтобы повысить к-во обучения модели. выполним балансировку данных на обучающей выборке. \n",
    "> Примечание - в принципе, это делать не обязательно, т.к. CatBoostClassifier досточно хорошо умеет работать с \n",
    "несбалансированными данныим (параметр - class_weights), но UnderSampling позволяет уменьшить объем данных,\n",
    "и т.о. повысить скорость обучения."
   ]
  },
  {
   "cell_type": "code",
   "execution_count": 22,
   "metadata": {},
   "outputs": [
    {
     "name": "stdout",
     "output_type": "stream",
     "text": [
      "Train\n",
      "0.0    0.5\n",
      "1.0    0.5\n",
      "Name: target, dtype: float64\n",
      "\n",
      "Test\n",
      "0.0    0.945209\n",
      "1.0    0.054791\n",
      "Name: target, dtype: float64\n"
     ]
    }
   ],
   "source": [
    "ros = RandomUnderSampler(random_state=42)\n",
    "x_train, y_train = ros.fit_resample(x_train, y_train)\n",
    "\n",
    "print(\"Train\")\n",
    "print(y_train.value_counts()/y_train.shape[0])\n",
    "print()\n",
    "print(\"Test\")\n",
    "print(y_test.value_counts()/y_test.shape[0])"
   ]
  },
  {
   "cell_type": "markdown",
   "metadata": {},
   "source": [
    "### 5. Обучение модели."
   ]
  },
  {
   "cell_type": "code",
   "execution_count": 25,
   "metadata": {},
   "outputs": [],
   "source": [
    "class ColumnSelector(BaseEstimator, TransformerMixin):\n",
    "    def __init__(self, columns):\n",
    "        self.columns = columns\n",
    "\n",
    "    def fit(self, X, y=None):\n",
    "        return self\n",
    "    \n",
    "    def transform(self, X):\n",
    "        assert isinstance(X, pd.DataFrame)\n",
    "\n",
    "        try:\n",
    "            return X[self.columns]\n",
    "        except KeyError:\n",
    "            cols_error = list(set(self.columns) - set(X.columns))\n",
    "            raise KeyError(\"DataFrame не содердит следующие колонки: %s\" % cols_error)"
   ]
  },
  {
   "cell_type": "code",
   "execution_count": 26,
   "metadata": {},
   "outputs": [],
   "source": [
    "f_prep_pipeline = make_pipeline(\n",
    "    ColumnSelector(columns=f_ok),\n",
    "    FeatureUnion(transformer_list=[\n",
    "        (\"numeric_features\", make_pipeline(\n",
    "            ColumnSelector(f_numeric),\n",
    "            SimpleImputer(strategy=\"median\"), # Заполнение пропусков.\n",
    "            StandardScaler()\n",
    "        )),\n",
    "        (\"categorical_features\", make_pipeline(\n",
    "            ColumnSelector(f_categorical),\n",
    "            SimpleImputer(strategy=\"most_frequent\"),\n",
    "            OneHotEncoder(handle_unknown='ignore')\n",
    "        )),\n",
    "        (\"boolean_features\", make_pipeline(\n",
    "            ColumnSelector(f_binary),\n",
    "        ))\n",
    "    ])\n",
    ")"
   ]
  },
  {
   "cell_type": "code",
   "execution_count": 27,
   "metadata": {},
   "outputs": [],
   "source": [
    "# disbalance = y_train.value_counts()[0] / y_train.value_counts()[1]\n",
    "# disbalance"
   ]
  },
  {
   "cell_type": "code",
   "execution_count": 28,
   "metadata": {},
   "outputs": [],
   "source": [
    "catb_model = catb.CatBoostClassifier(#silent=True,\n",
    "                                    random_state=21,\n",
    "                                    # class_weights=[1, disbalance],\n",
    "                                    score_function='L2',\n",
    "                                    depth = 7,\n",
    "                                    eval_metric='AUC',\n",
    "                                    use_best_model=True,\n",
    "                                    boosting_type = 'Ordered', #  / Plain \n",
    "                                    l2_leaf_reg = 3, # -- регуляризация. 3.0 = по умолчанию. \n",
    "                                    # eta = 0.5,\n",
    "                                    learning_rate=0.01,\n",
    "                                    custom_metric=['Precision', 'Recall'],\n",
    "                                    iterations=10000,\n",
    "                                    early_stopping_rounds=200,\n",
    "                                    verbose=100,                                    \n",
    "                                )"
   ]
  },
  {
   "cell_type": "code",
   "execution_count": 29,
   "metadata": {},
   "outputs": [],
   "source": [
    "cat_boost_pipe = make_pipeline(\n",
    "    f_prep_pipeline,\n",
    "    # TruncatedSVD(n_components=150, n_iter=7, random_state=42),# PCA(n_components=20, whiten=True),\n",
    "    catb_model\n",
    ")"
   ]
  },
  {
   "cell_type": "code",
   "execution_count": 30,
   "metadata": {},
   "outputs": [],
   "source": [
    "X_train_transformed = cat_boost_pipe[:-1].fit_transform(x_train)\n",
    "x_test_transformed = cat_boost_pipe[:-1].transform(x_test)"
   ]
  },
  {
   "cell_type": "code",
   "execution_count": 31,
   "metadata": {},
   "outputs": [
    {
     "name": "stdout",
     "output_type": "stream",
     "text": [
      "0:\ttest: 0.9120896\tbest: 0.9120896 (0)\ttotal: 1.43s\tremaining: 3h 57m 44s\n",
      "100:\ttest: 0.9191782\tbest: 0.9191782 (100)\ttotal: 1m 23s\tremaining: 2h 16m 3s\n",
      "200:\ttest: 0.9201537\tbest: 0.9201537 (200)\ttotal: 2m 41s\tremaining: 2h 11m 18s\n",
      "300:\ttest: 0.9203074\tbest: 0.9203248 (262)\ttotal: 4m 25s\tremaining: 2h 22m 29s\n",
      "400:\ttest: 0.9202172\tbest: 0.9203248 (262)\ttotal: 6m 14s\tremaining: 2h 29m 35s\n",
      "Stopped by overfitting detector  (200 iterations wait)\n",
      "\n",
      "bestTest = 0.920324783\n",
      "bestIteration = 262\n",
      "\n",
      "Shrink model to first 263 iterations.\n",
      "Wall time: 7min 26s\n"
     ]
    },
    {
     "data": {
      "text/plain": [
       "<catboost.core.CatBoostClassifier at 0x25aae20db80>"
      ]
     },
     "execution_count": 31,
     "metadata": {},
     "output_type": "execute_result"
    }
   ],
   "source": [
    "%%time\n",
    "cat_boost_pipe[-1].fit(\n",
    "       X=X_train_transformed,\n",
    "       y=y_train,\n",
    "       eval_set=[(x_test_transformed, y_test)],\n",
    "     )"
   ]
  },
  {
   "cell_type": "markdown",
   "metadata": {},
   "source": [
    "### 6. Построение предсказаний на тестовой выборке, оценка к-ва модели. "
   ]
  },
  {
   "cell_type": "code",
   "execution_count": 32,
   "metadata": {},
   "outputs": [],
   "source": [
    "test_score = cat_boost_pipe.predict(x_test)"
   ]
  },
  {
   "cell_type": "code",
   "execution_count": 33,
   "metadata": {},
   "outputs": [],
   "source": [
    "def plot_confusion_matrix(cm, classes,\n",
    "                          model_name=\"\",\n",
    "                          normalize=False,\n",
    "                          cmap=plt.cm.Blues):\n",
    "    \"\"\"\n",
    "    This function prints and plots the confusion matrix.\n",
    "    Normalization can be applied by setting `normalize=True`.\n",
    "    \"\"\"\n",
    "    if normalize:\n",
    "        cm = cm.astype('float') / cm.sum(axis=1)[:, np.newaxis]\n",
    "        print(\"Normalized confusion matrix\")\n",
    "    else:\n",
    "        print('Confusion matrix, without normalization')\n",
    "\n",
    "    print(cm)\n",
    "\n",
    "    plt.imshow(cm, interpolation='nearest',  cmap=cmap)\n",
    "    \n",
    "    plt.grid(False)\n",
    "    plt.title('%s: confusion matrix' % model_name)\n",
    "    tick_marks = np.arange(len(classes))\n",
    "    plt.xticks(tick_marks, classes, rotation=45)\n",
    "    plt.yticks(tick_marks, classes)\n",
    "\n",
    "    fmt = '.2f' if normalize else 'd'\n",
    "    thresh = cm.max() / 2.\n",
    "    for i, j in itertools.product(range(cm.shape[0]), range(cm.shape[1])):\n",
    "        plt.text(j, i, format(cm[i, j], fmt),\n",
    "                 horizontalalignment=\"center\",\n",
    "                 color=\"white\" if cm[i, j] > thresh else \"black\")\n",
    "\n",
    "    plt.ylabel('True label')\n",
    "    plt.xlabel('Predicted label')\n",
    "    plt.tight_layout()"
   ]
  },
  {
   "cell_type": "code",
   "execution_count": 34,
   "metadata": {},
   "outputs": [
    {
     "name": "stdout",
     "output_type": "stream",
     "text": [
      "Confusion matrix, without normalization\n",
      "[[167134  23973]\n",
      " [  1282   9796]]\n"
     ]
    },
    {
     "data": {
      "image/png": "[encoded data removed]",
      "text/plain": [
       "<Figure size 432x288 with 1 Axes>"
      ]
     },
     "metadata": {
      "needs_background": "light"
     },
     "output_type": "display_data"
    }
   ],
   "source": [
    "# TN               | FP(Type II error)|\n",
    "#------------------|------------------|\n",
    "# FN(Type I error) | TP               |\n",
    "\n",
    "cm = confusion_matrix(y_test, test_score > 0.5)\n",
    "plot_confusion_matrix(cm, classes=[\"0\", \"1\"], model_name=\"Baseline\");"
   ]
  },
  {
   "cell_type": "code",
   "execution_count": 35,
   "metadata": {},
   "outputs": [
    {
     "name": "stdout",
     "output_type": "stream",
     "text": [
      "              precision    recall  f1-score   support\n",
      "\n",
      "         0.0       0.99      0.87      0.93    191107\n",
      "         1.0       0.29      0.88      0.44     11078\n",
      "\n",
      "    accuracy                           0.88    202185\n",
      "   macro avg       0.64      0.88      0.68    202185\n",
      "weighted avg       0.95      0.88      0.90    202185\n",
      "\n"
     ]
    }
   ],
   "source": [
    "print(classification_report(y_test, test_score > 0.5))"
   ]
  },
  {
   "cell_type": "code",
   "execution_count": 36,
   "metadata": {},
   "outputs": [],
   "source": [
    "fpr, tpr, roc_thresholds = roc_curve(y_test, test_score)\n",
    "precision, recall, pr_thresholds = precision_recall_curve(y_test, test_score)"
   ]
  },
  {
   "cell_type": "code",
   "execution_count": 38,
   "metadata": {},
   "outputs": [
    {
     "name": "stdout",
     "output_type": "stream",
     "text": [
      "Baseline: AUC_ROC = 0.879\n"
     ]
    },
    {
     "data": {
      "image/png": "[encoded data removed]",
      "text/plain": [
       "<Figure size 504x504 with 1 Axes>"
      ]
     },
     "metadata": {
      "needs_background": "light"
     },
     "output_type": "display_data"
    }
   ],
   "source": [
    "def plot_roc_curve(fpr, tpr, model_name=\"\", color=None):\n",
    "    plt.plot(fpr, tpr, label='%s: ROC curve (area = %0.2f)' %\n",
    "             (model_name, auc(fpr, tpr)), color=color)\n",
    "    plt.plot([0, 1], [0, 1], 'k--')\n",
    "    plt.axis([0.0, 1.0, 0.0, 1.05])\n",
    "    plt.xlabel('False Positive Rate')\n",
    "    plt.ylabel('True Positive Rate')\n",
    "    plt.title('%s: Receiver operating characteristic curve' % model_name)\n",
    "    plt.legend(loc=\"lower right\")\n",
    "\n",
    "plt.figure(figsize=(7, 7))\n",
    "plot_roc_curve(fpr, tpr, \"Baseline\", color='r')\n",
    "print(\"Baseline: AUC_ROC = %.3f\" % auc(fpr, tpr))"
   ]
  },
  {
   "cell_type": "code",
   "execution_count": 39,
   "metadata": {},
   "outputs": [
    {
     "name": "stdout",
     "output_type": "stream",
     "text": [
      "Baseline: AUC_PR = 0.590\n"
     ]
    },
    {
     "data": {
      "image/png": "[encoded data removed]",
      "text/plain": [
       "<Figure size 504x504 with 1 Axes>"
      ]
     },
     "metadata": {
      "needs_background": "light"
     },
     "output_type": "display_data"
    }
   ],
   "source": [
    "def plot_precision_recall_curve(recall, precision, model_name=\"\", color=None):\n",
    "    plt.plot(recall, precision, label='%s: Precision-Recall curve (area = %0.2f)' %\n",
    "             (model_name, auc(recall, precision)), color=color)\n",
    "    plt.xlabel('Recall')\n",
    "    plt.ylabel('Precision')\n",
    "    plt.title(\"%s: Precision-Recall curve\" % model_name)\n",
    "    plt.axis([0.0, 1.0, 0.0, 1.05])\n",
    "    plt.legend(loc=\"lower left\")\n",
    "\n",
    "plt.figure(figsize=(7, 7))\n",
    "    \n",
    "plot_precision_recall_curve(recall, precision, \"Baseline\", color='r')\n",
    "print(\"Baseline: AUC_PR = %.3f\" % auc(recall, precision))"
   ]
  },
  {
   "cell_type": "code",
   "execution_count": 40,
   "metadata": {},
   "outputs": [],
   "source": [
    "feature_importance = catb_model.feature_importances_\n",
    "sorted_idx = np.argsort(feature_importance)\n",
    "features_count  = len(f_all)"
   ]
  },
  {
   "cell_type": "code",
   "execution_count": 41,
   "metadata": {},
   "outputs": [],
   "source": [
    "sorted_idx_ex = []\n",
    "for ind in  sorted_idx:\n",
    "    if ind < features_count:\n",
    "        sorted_idx_ex.append(ind)"
   ]
  },
  {
   "cell_type": "code",
   "execution_count": 42,
   "metadata": {},
   "outputs": [],
   "source": [
    "importance_features = np.array(x_test.columns)[sorted_idx_ex] # в конечном счете обучать модель будем только на этих фитчах."
   ]
  },
  {
   "cell_type": "code",
   "execution_count": 43,
   "metadata": {},
   "outputs": [
    {
     "data": {
      "text/plain": [
       "Text(0.5, 1.0, 'Feature Importance')"
      ]
     },
     "execution_count": 43,
     "metadata": {},
     "output_type": "execute_result"
    },
    {
     "data": {
      "image/png": "[encoded data removed]",
      "text/plain": [
       "<Figure size 864x1080 with 1 Axes>"
      ]
     },
     "metadata": {
      "needs_background": "light"
     },
     "output_type": "display_data"
    }
   ],
   "source": [
    "top_count = 50\n",
    "fig = plt.figure(figsize=(12, 15))\n",
    "plt.barh(range(top_count), feature_importance[sorted_idx_ex][-top_count:], align='center')\n",
    "plt.yticks(range(top_count), np.array(x_test.columns)[sorted_idx_ex][-top_count:])\n",
    "plt.xscale('log')\n",
    "plt.title('Feature Importance')"
   ]
  },
  {
   "cell_type": "markdown",
   "metadata": {},
   "source": [
    "### 7. Запись обученной модели в файл."
   ]
  },
  {
   "cell_type": "code",
   "execution_count": 44,
   "metadata": {},
   "outputs": [],
   "source": [
    "with open('data/catboost_model.pickle', 'wb') as f:\n",
    "    pickle.dump(cat_boost_pipe, f, protocol=pickle.HIGHEST_PROTOCOL)"
   ]
  },
  {
   "cell_type": "markdown",
   "metadata": {},
   "source": [
    "### 8. Финальное предсказание."
   ]
  },
  {
   "cell_type": "code",
   "execution_count": 46,
   "metadata": {},
   "outputs": [],
   "source": [
    "with open('data/catboost_model.pickle', 'rb') as f:\n",
    "    cat_boost_pipe =  pickle.load(f)"
   ]
  },
  {
   "cell_type": "code",
   "execution_count": 47,
   "metadata": {},
   "outputs": [],
   "source": [
    "data_test  = pd.read_csv(DATA_TEST_FEATURES_PATH)"
   ]
  },
  {
   "cell_type": "code",
   "execution_count": 49,
   "metadata": {},
   "outputs": [],
   "source": [
    "data_test.loc[(data_test['252'] > 1, '252')] = 2.0"
   ]
  },
  {
   "cell_type": "code",
   "execution_count": 50,
   "metadata": {},
   "outputs": [],
   "source": [
    "y_result_pred = cat_boost_pipe.predict(data_test) "
   ]
  },
  {
   "cell_type": "code",
   "execution_count": 51,
   "metadata": {},
   "outputs": [
    {
     "data": {
      "text/plain": [
       "array([0., 0., 1., ..., 0., 1., 0.])"
      ]
     },
     "execution_count": 51,
     "metadata": {},
     "output_type": "execute_result"
    }
   ],
   "source": [
    "y_result_pred"
   ]
  },
  {
   "cell_type": "code",
   "execution_count": 52,
   "metadata": {},
   "outputs": [],
   "source": [
    "x_test = pd.read_csv(users_data_df_PATH)\n",
    "x_test = x_test.drop('Unnamed: 0', axis=1)"
   ]
  },
  {
   "cell_type": "code",
   "execution_count": 53,
   "metadata": {},
   "outputs": [],
   "source": [
    "x_test['target'] = y_result_pred"
   ]
  },
  {
   "cell_type": "code",
   "execution_count": 54,
   "metadata": {},
   "outputs": [],
   "source": [
    "x_test.to_csv(ANSWER_TEST_PATH, index=False)"
   ]
  },
  {
   "cell_type": "code",
   "execution_count": 55,
   "metadata": {},
   "outputs": [
    {
     "data": {
      "text/html": [
       "<div>\n",
       "<style scoped>\n",
       "    .dataframe tbody tr th:only-of-type {\n",
       "        vertical-align: middle;\n",
       "    }\n",
       "\n",
       "    .dataframe tbody tr th {\n",
       "        vertical-align: top;\n",
       "    }\n",
       "\n",
       "    .dataframe thead th {\n",
       "        text-align: right;\n",
       "    }\n",
       "</style>\n",
       "<table border=\"1\" class=\"dataframe\">\n",
       "  <thead>\n",
       "    <tr style=\"text-align: right;\">\n",
       "      <th></th>\n",
       "      <th>id</th>\n",
       "      <th>vas_id</th>\n",
       "      <th>buy_time</th>\n",
       "      <th>target</th>\n",
       "    </tr>\n",
       "  </thead>\n",
       "  <tbody>\n",
       "    <tr>\n",
       "      <th>0</th>\n",
       "      <td>3130519</td>\n",
       "      <td>2.0</td>\n",
       "      <td>1548018000</td>\n",
       "      <td>0.0</td>\n",
       "    </tr>\n",
       "    <tr>\n",
       "      <th>1</th>\n",
       "      <td>2000860</td>\n",
       "      <td>4.0</td>\n",
       "      <td>1548018000</td>\n",
       "      <td>0.0</td>\n",
       "    </tr>\n",
       "    <tr>\n",
       "      <th>2</th>\n",
       "      <td>1099444</td>\n",
       "      <td>2.0</td>\n",
       "      <td>1546808400</td>\n",
       "      <td>1.0</td>\n",
       "    </tr>\n",
       "    <tr>\n",
       "      <th>3</th>\n",
       "      <td>1343255</td>\n",
       "      <td>5.0</td>\n",
       "      <td>1547413200</td>\n",
       "      <td>1.0</td>\n",
       "    </tr>\n",
       "    <tr>\n",
       "      <th>4</th>\n",
       "      <td>1277040</td>\n",
       "      <td>2.0</td>\n",
       "      <td>1546808400</td>\n",
       "      <td>1.0</td>\n",
       "    </tr>\n",
       "  </tbody>\n",
       "</table>\n",
       "</div>"
      ],
      "text/plain": [
       "        id  vas_id    buy_time  target\n",
       "0  3130519     2.0  1548018000     0.0\n",
       "1  2000860     4.0  1548018000     0.0\n",
       "2  1099444     2.0  1546808400     1.0\n",
       "3  1343255     5.0  1547413200     1.0\n",
       "4  1277040     2.0  1546808400     1.0"
      ]
     },
     "execution_count": 55,
     "metadata": {},
     "output_type": "execute_result"
    }
   ],
   "source": [
    "x_test.head()"
   ]
  }
 ],
 "metadata": {
  "interpreter": {
   "hash": "a5c640d2bd58ccd5da087649cd420729dab988865c87a53d754c4168c1e0597d"
  },
  "kernelspec": {
   "display_name": "Python 3.8.0 64-bit ('megafon_env': conda)",
   "name": "python3"
  },
  "language_info": {
   "codemirror_mode": {
    "name": "ipython",
    "version": 3
   },
   "file_extension": ".py",
   "mimetype": "text/x-python",
   "name": "python",
   "nbconvert_exporter": "python",
   "pygments_lexer": "ipython3",
   "version": "3.8.0"
  },
  "orig_nbformat": 4
 },
 "nbformat": 4,
 "nbformat_minor": 2
}
