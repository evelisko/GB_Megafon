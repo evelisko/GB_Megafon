{
 "cells": [
  {
   "cell_type": "markdown",
   "metadata": {},
   "source": [
    "# Постановка задачи.\n",
    "У нас появился запрос из отдела продаж и маркетинга. Как вы знаете «МегаФон» предлагает обширный набор различных услуг своим абонентам. При этом разным пользователям интересны разные услуги. Поэтому необходимо построить  алгоритм, который для каждой пары пользователь-услуга определит вероятность подключения услуги.\n",
    "\n",
    "# Данные\n",
    "В качестве исходных данных вам будет доступна информация об отклике абонентов на предложение подключения одной из услуг. Каждому пользователю может быть сделано несколько предложений в разное время, каждое из которых он может или принять, или отклонить.\n",
    "Отдельным набором данных будет являться нормализованный анонимизированный набор признаков, характеризующий профиль потребления абонента. Эти данные привязаны к определенному времени, поскольку профиль абонента может меняться с течением времени.\n",
    "Данные train и test разбиты по периодам – на train доступно 4 месяцев, а на test отложен последующий месяц.\n",
    "\n",
    "### Итого, в качестве входных данных будут представлены:\n",
    "●\t**data_train.csv:** id, vas_id, buy_time, target  \n",
    "●\t**features.csv.zip:** id, <feature_list>   \n",
    "\n",
    "### И тестовый набор:\n",
    "●\t**data_test.csv:** id, vas_id, buy_time  \n",
    "target - целевая переменная, где 1 означает подключение услуги, 0 - абонент не подключил услугу соответственно.  \n",
    "buy_time - время покупки, представлено в формате timestamp, для работы с этим столбцом понадобится функция datetime.fromtimestamp из модуля datetime.  \n",
    "id - идентификатор абонента  \n",
    "vas_id - подключаемая услуга  \n",
    "\n",
    "**Примечание:** Размер файла features.csv в распакованном виде весит 20 гб, для работы  с ним можно воспользоваться pandas.read_csv, либо можно воспользоваться библиотекой Dask.\n",
    "Метрика\n",
    "Скоринг будет осуществляться функцией f1, невзвешенным образом, как например делает функция sklearn.metrics.f1_score(…, average=’macro’).  \n",
    " sklearn.metrics.f1_score — scikit-learn 0.22.1 documentation\n",
    "\n",
    "\n",
    "# Формат представления результата\n",
    "1.\tРаботающая модель в формате pickle, которая принимает файл data_test.csv из корневой папки и записывает в эту же папку файл answers_test.csv. В этом файле должны находится 4 столбца: buy_time, id, vas_id и target. Target можно записать как вероятность подключения услуги.  \n",
    "2.\tКод модели можно представить в виде jupyter-ноутбука.  \n",
    "3.\tПрезентация в формате .pdf, в которой необходимо отразить:  \n",
    "●\tИнформация о модели, ее параметрах, особенностях и основных результатах.  \n",
    "●\tОбоснование выбора модели и ее сравнение с альтернативами.  \n",
    "●\tПринцип составления индивидуальных предложений для выбранных абонентов.  \n",
    "Рекомендуемое количество слайдов – 5 – 10.  \n",
    "Файл answers_test.csv с результатами работы модели, презентацию, ноутбуки и резюме необходимо прикрепить ко второму уроку “курсовой проект”.  \n"
   ]
  },
  {
   "cell_type": "code",
   "execution_count": 1,
   "metadata": {},
   "outputs": [],
   "source": [
    "import numpy as np\n",
    "import datetime\n",
    "import pandas as pd\n",
    "import dask.dataframe as dd\n",
    "from datetime import date\n",
    "import matplotlib.pyplot as plt "
   ]
  },
  {
   "cell_type": "code",
   "execution_count": 2,
   "metadata": {},
   "outputs": [],
   "source": [
    "FEATURES_PATH = 'data/features.csv'\n",
    "TRAIN_DF_PATH = 'data/data_train.csv'\n",
    "users_data_df_PATH = 'data/data_test.csv'\n",
    "DATA_TRAIN_FEATURES_PATH = 'data/data_train_features.csv'\n",
    "DATA_TEST_FEATURES_PATH = 'data/data_test_features.csv'"
   ]
  },
  {
   "cell_type": "code",
   "execution_count": 3,
   "metadata": {},
   "outputs": [],
   "source": [
    "train_df = pd.read_csv(TRAIN_DF_PATH)\n",
    "train_df = train_df.drop('Unnamed: 0', axis=1)"
   ]
  },
  {
   "cell_type": "code",
   "execution_count": 4,
   "metadata": {},
   "outputs": [],
   "source": [
    "features_df = dd.read_csv(FEATURES_PATH, sep=\"\\t\")\n",
    "features_df = features_df.drop('Unnamed: 0', axis=1)"
   ]
  },
  {
   "cell_type": "markdown",
   "metadata": {},
   "source": [
    "Переведем данные к удобному нам формату."
   ]
  },
  {
   "cell_type": "code",
   "execution_count": 5,
   "metadata": {},
   "outputs": [],
   "source": [
    "train_df['date'] =  train_df['buy_time'].apply(lambda x: date.fromtimestamp(x))"
   ]
  },
  {
   "cell_type": "code",
   "execution_count": 6,
   "metadata": {},
   "outputs": [
    {
     "name": "stdout",
     "output_type": "stream",
     "text": [
      "min: 2018-07-09 | max: 2018-12-31\n"
     ]
    }
   ],
   "source": [
    "print(f\"min: {train_df['date'].min()} | max: {train_df['date'].max()}\")"
   ]
  },
  {
   "cell_type": "code",
   "execution_count": 26,
   "metadata": {},
   "outputs": [],
   "source": [
    "data_nole = train_df.loc[(train_df['target']==0, 'vas_id') ].value_counts().sort_index()"
   ]
  },
  {
   "cell_type": "code",
   "execution_count": 27,
   "metadata": {},
   "outputs": [],
   "source": [
    "data_one = train_df.loc[(train_df['target']==1, 'vas_id') ].value_counts().sort_index()"
   ]
  },
  {
   "cell_type": "code",
   "execution_count": 19,
   "metadata": {},
   "outputs": [
    {
     "data": {
      "text/plain": [
       "array([ 5664,  4797, 21765,  1692, 24704,   213,   347,  1004],\n",
       "      dtype=int64)"
      ]
     },
     "execution_count": 19,
     "metadata": {},
     "output_type": "execute_result"
    }
   ],
   "source": [
    "data.values"
   ]
  },
  {
   "cell_type": "code",
   "execution_count": 35,
   "metadata": {},
   "outputs": [],
   "source": [
    "data_1 = {\n",
    "    'vas_id':[],\n",
    "    '0': [],\n",
    "    '1': []\n",
    "}"
   ]
  },
  {
   "cell_type": "code",
   "execution_count": 39,
   "metadata": {},
   "outputs": [
    {
     "data": {
      "text/plain": [
       "{'vas_id': [1.0, 2.0, 4.0, 5.0, 6.0, 7.0, 8.0, 9.0],\n",
       " '0': [304511, 244708, 63991, 92393, 33174, 15219, 13003, 4468],\n",
       " '1': [5664, 4797, 21765, 1692, 24704, 213, 347, 1004]}"
      ]
     },
     "execution_count": 39,
     "metadata": {},
     "output_type": "execute_result"
    }
   ],
   "source": [
    "data_1"
   ]
  },
  {
   "cell_type": "code",
   "execution_count": null,
   "metadata": {},
   "outputs": [],
   "source": [
    "list(data_nole.index)"
   ]
  },
  {
   "cell_type": "code",
   "execution_count": 36,
   "metadata": {},
   "outputs": [],
   "source": [
    "data_1['vas_id'] = (list(data_nole.index))"
   ]
  },
  {
   "cell_type": "code",
   "execution_count": 37,
   "metadata": {},
   "outputs": [],
   "source": [
    "data_1['0'] = (list(data_nole.values))"
   ]
  },
  {
   "cell_type": "code",
   "execution_count": 38,
   "metadata": {},
   "outputs": [],
   "source": [
    "data_1['1'] = (list(data_one.values))"
   ]
  },
  {
   "cell_type": "code",
   "execution_count": 40,
   "metadata": {},
   "outputs": [
    {
     "data": {
      "text/html": [
       "<div>\n",
       "<style scoped>\n",
       "    .dataframe tbody tr th:only-of-type {\n",
       "        vertical-align: middle;\n",
       "    }\n",
       "\n",
       "    .dataframe tbody tr th {\n",
       "        vertical-align: top;\n",
       "    }\n",
       "\n",
       "    .dataframe thead th {\n",
       "        text-align: right;\n",
       "    }\n",
       "</style>\n",
       "<table border=\"1\" class=\"dataframe\">\n",
       "  <thead>\n",
       "    <tr style=\"text-align: right;\">\n",
       "      <th></th>\n",
       "      <th>vas_id</th>\n",
       "      <th>0</th>\n",
       "      <th>1</th>\n",
       "    </tr>\n",
       "  </thead>\n",
       "  <tbody>\n",
       "    <tr>\n",
       "      <th>0</th>\n",
       "      <td>1.0</td>\n",
       "      <td>304511</td>\n",
       "      <td>5664</td>\n",
       "    </tr>\n",
       "    <tr>\n",
       "      <th>1</th>\n",
       "      <td>2.0</td>\n",
       "      <td>244708</td>\n",
       "      <td>4797</td>\n",
       "    </tr>\n",
       "    <tr>\n",
       "      <th>2</th>\n",
       "      <td>4.0</td>\n",
       "      <td>63991</td>\n",
       "      <td>21765</td>\n",
       "    </tr>\n",
       "    <tr>\n",
       "      <th>3</th>\n",
       "      <td>5.0</td>\n",
       "      <td>92393</td>\n",
       "      <td>1692</td>\n",
       "    </tr>\n",
       "    <tr>\n",
       "      <th>4</th>\n",
       "      <td>6.0</td>\n",
       "      <td>33174</td>\n",
       "      <td>24704</td>\n",
       "    </tr>\n",
       "    <tr>\n",
       "      <th>5</th>\n",
       "      <td>7.0</td>\n",
       "      <td>15219</td>\n",
       "      <td>213</td>\n",
       "    </tr>\n",
       "    <tr>\n",
       "      <th>6</th>\n",
       "      <td>8.0</td>\n",
       "      <td>13003</td>\n",
       "      <td>347</td>\n",
       "    </tr>\n",
       "    <tr>\n",
       "      <th>7</th>\n",
       "      <td>9.0</td>\n",
       "      <td>4468</td>\n",
       "      <td>1004</td>\n",
       "    </tr>\n",
       "  </tbody>\n",
       "</table>\n",
       "</div>"
      ],
      "text/plain": [
       "   vas_id       0      1\n",
       "0     1.0  304511   5664\n",
       "1     2.0  244708   4797\n",
       "2     4.0   63991  21765\n",
       "3     5.0   92393   1692\n",
       "4     6.0   33174  24704\n",
       "5     7.0   15219    213\n",
       "6     8.0   13003    347\n",
       "7     9.0    4468   1004"
      ]
     },
     "execution_count": 40,
     "metadata": {},
     "output_type": "execute_result"
    }
   ],
   "source": [
    "pd.DataFrame(data_1)"
   ]
  },
  {
   "cell_type": "code",
   "execution_count": 101,
   "metadata": {},
   "outputs": [
    {
     "data": {
      "text/html": [
       "<div>\n",
       "<style scoped>\n",
       "    .dataframe tbody tr th:only-of-type {\n",
       "        vertical-align: middle;\n",
       "    }\n",
       "\n",
       "    .dataframe tbody tr th {\n",
       "        vertical-align: top;\n",
       "    }\n",
       "\n",
       "    .dataframe thead th {\n",
       "        text-align: right;\n",
       "    }\n",
       "</style>\n",
       "<table border=\"1\" class=\"dataframe\">\n",
       "  <thead>\n",
       "    <tr style=\"text-align: right;\">\n",
       "      <th></th>\n",
       "      <th>id</th>\n",
       "      <th>vas_id</th>\n",
       "      <th>buy_time</th>\n",
       "      <th>target</th>\n",
       "      <th>date</th>\n",
       "    </tr>\n",
       "  </thead>\n",
       "  <tbody>\n",
       "    <tr>\n",
       "      <th>0</th>\n",
       "      <td>540968</td>\n",
       "      <td>8.0</td>\n",
       "      <td>1537131600</td>\n",
       "      <td>0.0</td>\n",
       "      <td>2018-09-17</td>\n",
       "    </tr>\n",
       "    <tr>\n",
       "      <th>1</th>\n",
       "      <td>1454121</td>\n",
       "      <td>4.0</td>\n",
       "      <td>1531688400</td>\n",
       "      <td>0.0</td>\n",
       "      <td>2018-07-16</td>\n",
       "    </tr>\n",
       "    <tr>\n",
       "      <th>2</th>\n",
       "      <td>2458816</td>\n",
       "      <td>1.0</td>\n",
       "      <td>1534107600</td>\n",
       "      <td>0.0</td>\n",
       "      <td>2018-08-13</td>\n",
       "    </tr>\n",
       "    <tr>\n",
       "      <th>3</th>\n",
       "      <td>3535012</td>\n",
       "      <td>5.0</td>\n",
       "      <td>1535922000</td>\n",
       "      <td>0.0</td>\n",
       "      <td>2018-09-03</td>\n",
       "    </tr>\n",
       "    <tr>\n",
       "      <th>4</th>\n",
       "      <td>1693214</td>\n",
       "      <td>1.0</td>\n",
       "      <td>1535922000</td>\n",
       "      <td>0.0</td>\n",
       "      <td>2018-09-03</td>\n",
       "    </tr>\n",
       "  </tbody>\n",
       "</table>\n",
       "</div>"
      ],
      "text/plain": [
       "        id  vas_id    buy_time  target        date\n",
       "0   540968     8.0  1537131600     0.0  2018-09-17\n",
       "1  1454121     4.0  1531688400     0.0  2018-07-16\n",
       "2  2458816     1.0  1534107600     0.0  2018-08-13\n",
       "3  3535012     5.0  1535922000     0.0  2018-09-03\n",
       "4  1693214     1.0  1535922000     0.0  2018-09-03"
      ]
     },
     "execution_count": 101,
     "metadata": {},
     "output_type": "execute_result"
    }
   ],
   "source": [
    "train_df.head()"
   ]
  },
  {
   "cell_type": "code",
   "execution_count": 102,
   "metadata": {},
   "outputs": [
    {
     "data": {
      "text/html": [
       "<div>\n",
       "<style scoped>\n",
       "    .dataframe tbody tr th:only-of-type {\n",
       "        vertical-align: middle;\n",
       "    }\n",
       "\n",
       "    .dataframe tbody tr th {\n",
       "        vertical-align: top;\n",
       "    }\n",
       "\n",
       "    .dataframe thead th {\n",
       "        text-align: right;\n",
       "    }\n",
       "</style>\n",
       "<table border=\"1\" class=\"dataframe\">\n",
       "  <thead>\n",
       "    <tr style=\"text-align: right;\">\n",
       "      <th></th>\n",
       "      <th>id</th>\n",
       "      <th>buy_time</th>\n",
       "      <th>0</th>\n",
       "      <th>1</th>\n",
       "      <th>2</th>\n",
       "      <th>3</th>\n",
       "      <th>4</th>\n",
       "      <th>5</th>\n",
       "      <th>6</th>\n",
       "      <th>7</th>\n",
       "      <th>...</th>\n",
       "      <th>243</th>\n",
       "      <th>244</th>\n",
       "      <th>245</th>\n",
       "      <th>246</th>\n",
       "      <th>247</th>\n",
       "      <th>248</th>\n",
       "      <th>249</th>\n",
       "      <th>250</th>\n",
       "      <th>251</th>\n",
       "      <th>252</th>\n",
       "    </tr>\n",
       "  </thead>\n",
       "  <tbody>\n",
       "    <tr>\n",
       "      <th>0</th>\n",
       "      <td>2013026</td>\n",
       "      <td>1531688400</td>\n",
       "      <td>18.910029</td>\n",
       "      <td>46.980888</td>\n",
       "      <td>4.969214</td>\n",
       "      <td>-1.386798</td>\n",
       "      <td>3.791754</td>\n",
       "      <td>-14.01179</td>\n",
       "      <td>-16.08618</td>\n",
       "      <td>-65.076097</td>\n",
       "      <td>...</td>\n",
       "      <td>-977.373846</td>\n",
       "      <td>-613.770792</td>\n",
       "      <td>-25.996269</td>\n",
       "      <td>-37.630448</td>\n",
       "      <td>-301.747724</td>\n",
       "      <td>-25.832889</td>\n",
       "      <td>-0.694428</td>\n",
       "      <td>-12.175933</td>\n",
       "      <td>-0.45614</td>\n",
       "      <td>0.0</td>\n",
       "    </tr>\n",
       "    <tr>\n",
       "      <th>1</th>\n",
       "      <td>2014722</td>\n",
       "      <td>1539550800</td>\n",
       "      <td>36.690029</td>\n",
       "      <td>152.400888</td>\n",
       "      <td>448.069214</td>\n",
       "      <td>563.833202</td>\n",
       "      <td>463.841754</td>\n",
       "      <td>568.99821</td>\n",
       "      <td>-16.08618</td>\n",
       "      <td>-53.216097</td>\n",
       "      <td>...</td>\n",
       "      <td>-891.373846</td>\n",
       "      <td>-544.770792</td>\n",
       "      <td>-20.996269</td>\n",
       "      <td>48.369552</td>\n",
       "      <td>80.252276</td>\n",
       "      <td>-13.832889</td>\n",
       "      <td>-0.694428</td>\n",
       "      <td>-1.175933</td>\n",
       "      <td>-0.45614</td>\n",
       "      <td>0.0</td>\n",
       "    </tr>\n",
       "    <tr>\n",
       "      <th>2</th>\n",
       "      <td>2015199</td>\n",
       "      <td>1545598800</td>\n",
       "      <td>-67.019971</td>\n",
       "      <td>157.050888</td>\n",
       "      <td>-63.180786</td>\n",
       "      <td>178.103202</td>\n",
       "      <td>-68.598246</td>\n",
       "      <td>156.99821</td>\n",
       "      <td>3.51382</td>\n",
       "      <td>25.183903</td>\n",
       "      <td>...</td>\n",
       "      <td>-977.373846</td>\n",
       "      <td>-613.770792</td>\n",
       "      <td>-12.996269</td>\n",
       "      <td>-37.630448</td>\n",
       "      <td>10829.252276</td>\n",
       "      <td>-25.832889</td>\n",
       "      <td>-0.694428</td>\n",
       "      <td>-12.175933</td>\n",
       "      <td>-0.45614</td>\n",
       "      <td>0.0</td>\n",
       "    </tr>\n",
       "    <tr>\n",
       "      <th>3</th>\n",
       "      <td>2021765</td>\n",
       "      <td>1534107600</td>\n",
       "      <td>7.010029</td>\n",
       "      <td>150.200888</td>\n",
       "      <td>-6.930786</td>\n",
       "      <td>216.213202</td>\n",
       "      <td>76.621754</td>\n",
       "      <td>351.84821</td>\n",
       "      <td>-16.08618</td>\n",
       "      <td>-65.076097</td>\n",
       "      <td>...</td>\n",
       "      <td>-973.373846</td>\n",
       "      <td>-613.770792</td>\n",
       "      <td>-23.996269</td>\n",
       "      <td>-37.630448</td>\n",
       "      <td>-205.747724</td>\n",
       "      <td>-24.832889</td>\n",
       "      <td>-0.694428</td>\n",
       "      <td>-11.175933</td>\n",
       "      <td>-0.45614</td>\n",
       "      <td>1.0</td>\n",
       "    </tr>\n",
       "    <tr>\n",
       "      <th>4</th>\n",
       "      <td>2027465</td>\n",
       "      <td>1533502800</td>\n",
       "      <td>-90.439971</td>\n",
       "      <td>134.220888</td>\n",
       "      <td>-104.380786</td>\n",
       "      <td>153.643202</td>\n",
       "      <td>-109.798246</td>\n",
       "      <td>132.53821</td>\n",
       "      <td>-16.08618</td>\n",
       "      <td>-65.076097</td>\n",
       "      <td>...</td>\n",
       "      <td>1643.626154</td>\n",
       "      <td>2007.229208</td>\n",
       "      <td>206.003731</td>\n",
       "      <td>-21.630448</td>\n",
       "      <td>6667.252276</td>\n",
       "      <td>92.167111</td>\n",
       "      <td>-0.694428</td>\n",
       "      <td>49.824067</td>\n",
       "      <td>47.54386</td>\n",
       "      <td>0.0</td>\n",
       "    </tr>\n",
       "  </tbody>\n",
       "</table>\n",
       "<p>5 rows × 255 columns</p>\n",
       "</div>"
      ],
      "text/plain": [
       "        id    buy_time          0           1           2           3  \\\n",
       "0  2013026  1531688400  18.910029   46.980888    4.969214   -1.386798   \n",
       "1  2014722  1539550800  36.690029  152.400888  448.069214  563.833202   \n",
       "2  2015199  1545598800 -67.019971  157.050888  -63.180786  178.103202   \n",
       "3  2021765  1534107600   7.010029  150.200888   -6.930786  216.213202   \n",
       "4  2027465  1533502800 -90.439971  134.220888 -104.380786  153.643202   \n",
       "\n",
       "            4          5         6          7  ...          243          244  \\\n",
       "0    3.791754  -14.01179 -16.08618 -65.076097  ...  -977.373846  -613.770792   \n",
       "1  463.841754  568.99821 -16.08618 -53.216097  ...  -891.373846  -544.770792   \n",
       "2  -68.598246  156.99821   3.51382  25.183903  ...  -977.373846  -613.770792   \n",
       "3   76.621754  351.84821 -16.08618 -65.076097  ...  -973.373846  -613.770792   \n",
       "4 -109.798246  132.53821 -16.08618 -65.076097  ...  1643.626154  2007.229208   \n",
       "\n",
       "          245        246           247        248       249        250  \\\n",
       "0  -25.996269 -37.630448   -301.747724 -25.832889 -0.694428 -12.175933   \n",
       "1  -20.996269  48.369552     80.252276 -13.832889 -0.694428  -1.175933   \n",
       "2  -12.996269 -37.630448  10829.252276 -25.832889 -0.694428 -12.175933   \n",
       "3  -23.996269 -37.630448   -205.747724 -24.832889 -0.694428 -11.175933   \n",
       "4  206.003731 -21.630448   6667.252276  92.167111 -0.694428  49.824067   \n",
       "\n",
       "        251  252  \n",
       "0  -0.45614  0.0  \n",
       "1  -0.45614  0.0  \n",
       "2  -0.45614  0.0  \n",
       "3  -0.45614  1.0  \n",
       "4  47.54386  0.0  \n",
       "\n",
       "[5 rows x 255 columns]"
      ]
     },
     "execution_count": 102,
     "metadata": {},
     "output_type": "execute_result"
    }
   ],
   "source": [
    "features_df.head()"
   ]
  },
  {
   "cell_type": "code",
   "execution_count": 103,
   "metadata": {},
   "outputs": [
    {
     "data": {
      "text/plain": [
       "1347260    3\n",
       "17679      3\n",
       "340716     3\n",
       "1596002    3\n",
       "1195576    3\n",
       "          ..\n",
       "1934276    1\n",
       "4340166    1\n",
       "2891727    1\n",
       "66499      1\n",
       "3022610    1\n",
       "Name: id, Length: 806613, dtype: int64"
      ]
     },
     "execution_count": 103,
     "metadata": {},
     "output_type": "execute_result"
    }
   ],
   "source": [
    "train_df['id'].value_counts().sort_values(ascending=False)"
   ]
  },
  {
   "cell_type": "markdown",
   "metadata": {},
   "source": [
    "Видно, что несколько некоторым пользователям делалось предложение несколько раз.\n",
    "При этом, на момент предложения данных о некоторых пользователях за частую еще нет."
   ]
  },
  {
   "cell_type": "markdown",
   "metadata": {},
   "source": [
    "Построим динамику предложений, которые делались пользователям.  \n",
    "Видно, что из месяца в месяц к-во предложений которое делалось пользователям по услугам с номерами 1 и 2 - уменьшалось.\n",
    "И, в какой-то момент 19-11-2018 к-во пользователей, которые приобрели услуги оказлалось больше чем отказавшихся. Данные по продложениям выполненным в этот день лучше не учитывать."
   ]
  },
  {
   "cell_type": "code",
   "execution_count": 104,
   "metadata": {},
   "outputs": [
    {
     "data": {
      "image/png": "[encoded data removed]",
      "text/plain": [
       "<Figure size 1440x720 with 1 Axes>"
      ]
     },
     "metadata": {
      "needs_background": "light"
     },
     "output_type": "display_data"
    }
   ],
   "source": [
    "plt.figure(figsize=(20,10))\n",
    "plt.hist(train_df.loc[(train_df['target']==0, 'date') ], bins=50, rwidth=5, stacked=False)\n",
    "plt.hist(train_df.loc[(train_df['target']==1, 'date') ], bins=50, rwidth=5, stacked=False, alpha=0.5)\n",
    "plt.show()"
   ]
  },
  {
   "cell_type": "code",
   "execution_count": 105,
   "metadata": {},
   "outputs": [
    {
     "data": {
      "image/png": "[encoded data removed]",
      "text/plain": [
       "<Figure size 1440x720 with 1 Axes>"
      ]
     },
     "metadata": {
      "needs_background": "light"
     },
     "output_type": "display_data"
    }
   ],
   "source": [
    "plt.figure(figsize=(20,10))\n",
    "plt.plot(train_df.loc[(train_df['vas_id']==1.0, 'date') ].value_counts().sort_index(),label='1')\n",
    "plt.plot(train_df.loc[(train_df['vas_id']==2.0, 'date') ].value_counts().sort_index(),label='2')\n",
    "plt.plot(train_df.loc[(train_df['vas_id']==3.0, 'date') ].value_counts().sort_index(),label='3')\n",
    "plt.plot(train_df.loc[(train_df['vas_id']==5.0, 'date') ].value_counts().sort_index(),label='5')\n",
    "plt.plot(train_df.loc[(train_df['vas_id']==6.0, 'date') ].value_counts().sort_index(),label='6')\n",
    "plt.plot(train_df.loc[(train_df['vas_id']==7.0, 'date') ].value_counts().sort_index(),label='7')\n",
    "plt.plot(train_df.loc[(train_df['vas_id']==8.0, 'date') ].value_counts().sort_index(),label='8')\n",
    "plt.plot(train_df.loc[(train_df['vas_id']==9.0, 'date') ].value_counts().sort_index(),label='9')\n",
    "plt.hist(train_df.loc[(train_df['target']==1, 'date') ], bins=50, rwidth=5, stacked=False, alpha=0.5)\n",
    "plt.legend()\n",
    "plt.show()"
   ]
  },
  {
   "cell_type": "markdown",
   "metadata": {},
   "source": [
    "Видно, что к-во предлагаемых услуг 1 и 2 уменьшалось вплоть до декабря. затем последовал большой скачек.\n",
    "Видимо, перед новым годом компания предложила какие-то выгодные условия по тарифам."
   ]
  },
  {
   "cell_type": "code",
   "execution_count": 106,
   "metadata": {},
   "outputs": [
    {
     "data": {
      "image/png": "[encoded data removed]",
      "text/plain": [
       "<Figure size 1440x720 with 1 Axes>"
      ]
     },
     "metadata": {
      "needs_background": "light"
     },
     "output_type": "display_data"
    }
   ],
   "source": [
    "plt.figure(figsize=(20,10))\n",
    "plt.plot(train_df.loc[((train_df['vas_id']==1.0) & (train_df['target']==1), 'date') ].value_counts().sort_index(),label='1')\n",
    "plt.plot(train_df.loc[((train_df['vas_id']==2.0) & (train_df['target']==1), 'date') ].value_counts().sort_index(),label='2')\n",
    "plt.plot(train_df.loc[((train_df['vas_id']==3.0) & (train_df['target']==1), 'date') ].value_counts().sort_index(),label='4')\n",
    "plt.plot(train_df.loc[((train_df['vas_id']==5.0) & (train_df['target']==1), 'date') ].value_counts().sort_index(),label='5')\n",
    "plt.plot(train_df.loc[((train_df['vas_id']==6.0) & (train_df['target']==1), 'date') ].value_counts().sort_index(),label='6')\n",
    "plt.plot(train_df.loc[((train_df['vas_id']==7.0) & (train_df['target']==1), 'date') ].value_counts().sort_index(),label='7')\n",
    "plt.plot(train_df.loc[((train_df['vas_id']==8.0) & (train_df['target']==1), 'date') ].value_counts().sort_index(),label='8')\n",
    "plt.plot(train_df.loc[((train_df['vas_id']==9.0) & (train_df['target']==1), 'date') ].value_counts().sort_index(),label='9')\n",
    "plt.hist(train_df.loc[(train_df['target']==1, 'date') ], bins=50, rwidth=5, stacked=False, alpha=0.5)\n",
    "plt.legend()\n",
    "plt.show()"
   ]
  },
  {
   "cell_type": "markdown",
   "metadata": {},
   "source": [
    "В декабре к-во покупок услуги номер 6 практически полностью совпадет с к-вом предложений.\n",
    "\n",
    "По к-ву подключений лидируют услуги 4 и 6.  "
   ]
  },
  {
   "cell_type": "code",
   "execution_count": null,
   "metadata": {},
   "outputs": [],
   "source": [
    "train_df.loc[(train_df['target']==1, 'vas_id') ].value_counts().sort_index()"
   ]
  },
  {
   "cell_type": "code",
   "execution_count": 107,
   "metadata": {},
   "outputs": [
    {
     "data": {
      "text/html": [
       "<div>\n",
       "<style scoped>\n",
       "    .dataframe tbody tr th:only-of-type {\n",
       "        vertical-align: middle;\n",
       "    }\n",
       "\n",
       "    .dataframe tbody tr th {\n",
       "        vertical-align: top;\n",
       "    }\n",
       "\n",
       "    .dataframe thead th {\n",
       "        text-align: right;\n",
       "    }\n",
       "</style>\n",
       "<table border=\"1\" class=\"dataframe\">\n",
       "  <thead>\n",
       "    <tr style=\"text-align: right;\">\n",
       "      <th></th>\n",
       "      <th>vas_id</th>\n",
       "      <th>0</th>\n",
       "      <th>1</th>\n",
       "    </tr>\n",
       "  </thead>\n",
       "  <tbody>\n",
       "    <tr>\n",
       "      <th>0</th>\n",
       "      <td>1.0</td>\n",
       "      <td>0.982</td>\n",
       "      <td>0.018</td>\n",
       "    </tr>\n",
       "    <tr>\n",
       "      <th>1</th>\n",
       "      <td>2.0</td>\n",
       "      <td>0.981</td>\n",
       "      <td>0.019</td>\n",
       "    </tr>\n",
       "    <tr>\n",
       "      <th>2</th>\n",
       "      <td>4.0</td>\n",
       "      <td>0.746</td>\n",
       "      <td>0.254</td>\n",
       "    </tr>\n",
       "    <tr>\n",
       "      <th>3</th>\n",
       "      <td>5.0</td>\n",
       "      <td>0.982</td>\n",
       "      <td>0.018</td>\n",
       "    </tr>\n",
       "    <tr>\n",
       "      <th>4</th>\n",
       "      <td>6.0</td>\n",
       "      <td>0.573</td>\n",
       "      <td>0.427</td>\n",
       "    </tr>\n",
       "    <tr>\n",
       "      <th>5</th>\n",
       "      <td>7.0</td>\n",
       "      <td>0.986</td>\n",
       "      <td>0.014</td>\n",
       "    </tr>\n",
       "    <tr>\n",
       "      <th>6</th>\n",
       "      <td>8.0</td>\n",
       "      <td>0.974</td>\n",
       "      <td>0.026</td>\n",
       "    </tr>\n",
       "    <tr>\n",
       "      <th>7</th>\n",
       "      <td>9.0</td>\n",
       "      <td>0.817</td>\n",
       "      <td>0.183</td>\n",
       "    </tr>\n",
       "  </tbody>\n",
       "</table>\n",
       "</div>"
      ],
      "text/plain": [
       "   vas_id      0      1\n",
       "0     1.0  0.982  0.018\n",
       "1     2.0  0.981  0.019\n",
       "2     4.0  0.746  0.254\n",
       "3     5.0  0.982  0.018\n",
       "4     6.0  0.573  0.427\n",
       "5     7.0  0.986  0.014\n",
       "6     8.0  0.974  0.026\n",
       "7     9.0  0.817  0.183"
      ]
     },
     "execution_count": 107,
     "metadata": {},
     "output_type": "execute_result"
    }
   ],
   "source": [
    "dic = {'vas_id':[],\n",
    "       '0':[],\n",
    "       '1':[]\n",
    "        }\n",
    "vas_ids = np.sort(train_df['vas_id'].unique())\n",
    "\n",
    "for vas_id in vas_ids:\n",
    "    temp_df = train_df.loc[(train_df['vas_id']==vas_id)]\n",
    "    c_0 = len(temp_df.loc[(temp_df['target']==0)])/len(temp_df['target'])\n",
    "    c_1 = len(temp_df.loc[(temp_df['target']==1)])/len(temp_df['target'])\n",
    "    dic['vas_id'].append(vas_id)\n",
    "    dic['0'].append(f'{c_0:.3f}')\n",
    "    dic['1'].append(f'{c_1:.3f}')\n",
    "pd.DataFrame(dic)"
   ]
  },
  {
   "cell_type": "markdown",
   "metadata": {},
   "source": [
    "Удалим из train_df все данные за  2018-11-19."
   ]
  },
  {
   "cell_type": "code",
   "execution_count": 112,
   "metadata": {},
   "outputs": [],
   "source": [
    "train_df=train_df[train_df['buy_time'] != int(datetime.datetime(2018,11,19,1,0).timestamp())]"
   ]
  },
  {
   "cell_type": "code",
   "execution_count": 113,
   "metadata": {},
   "outputs": [
    {
     "data": {
      "text/plain": [
       "[<matplotlib.lines.Line2D at 0x20b270d6880>]"
      ]
     },
     "execution_count": 113,
     "metadata": {},
     "output_type": "execute_result"
    },
    {
     "data": {
      "image/png": "[encoded data removed]",
      "text/plain": [
       "<Figure size 864x432 with 1 Axes>"
      ]
     },
     "metadata": {
      "needs_background": "light"
     },
     "output_type": "display_data"
    }
   ],
   "source": [
    "plt.figure(figsize=(12,6))\n",
    "plt.plot(train_df.loc[(train_df['target']==1, 'date') ].value_counts().sort_index())"
   ]
  },
  {
   "cell_type": "markdown",
   "metadata": {},
   "source": [
    "Объединим train_df с features_df. Для этого.\n",
    "1. Отсеим из features_df записи по пользователям, которых нет в train_df."
   ]
  },
  {
   "cell_type": "code",
   "execution_count": 114,
   "metadata": {},
   "outputs": [],
   "source": [
    "user_ids = train_df['id'].unique()\n",
    "features_df = features_df.compute()\n",
    "\n",
    "features_df = features_df.loc[(features_df['id'].isin(user_ids))]"
   ]
  },
  {
   "cell_type": "markdown",
   "metadata": {},
   "source": [
    "2. Выполним объединение таблиц по id пользователей. \n",
    "\n",
    "Учитываем тот факт, в таблице features_df должна иметься запись о пользователе с датой меньше либо равной записи в таблице train_df."
   ]
  },
  {
   "cell_type": "code",
   "execution_count": 115,
   "metadata": {},
   "outputs": [],
   "source": [
    "train_df = train_df.sort_index()\n",
    "train_df = train_df.sort_values(by=\"buy_time\")\n",
    "features_df = features_df.sort_values(by=\"buy_time\")"
   ]
  },
  {
   "cell_type": "code",
   "execution_count": 116,
   "metadata": {},
   "outputs": [],
   "source": [
    "data_train = pd.merge_asof(train_df, features_df, on='buy_time', by='id')"
   ]
  },
  {
   "cell_type": "markdown",
   "metadata": {},
   "source": [
    "Добавим новые столбцы в теблицу (День, месяц и номер недели). "
   ]
  },
  {
   "cell_type": "code",
   "execution_count": 118,
   "metadata": {},
   "outputs": [],
   "source": [
    "data_train['week_on_month'] = data_train['date'].apply(lambda x: pd.to_datetime(x).day//7)\n",
    "data_train['day'] = data_train['date'].apply(lambda x: pd.to_datetime(x).day)\n",
    "data_train['month'] = data_train['date'].apply(lambda x: pd.to_datetime(x).month)\n",
    "# data_train['year'] = data_train['date'].apply(lambda x: pd.to_datetime(x).year)\n",
    "data_train = data_train.drop('date', axis=1)\n",
    "data_train = data_train.drop('buy_time', axis=1)"
   ]
  },
  {
   "cell_type": "code",
   "execution_count": 120,
   "metadata": {},
   "outputs": [
    {
     "data": {
      "text/html": [
       "<div>\n",
       "<style scoped>\n",
       "    .dataframe tbody tr th:only-of-type {\n",
       "        vertical-align: middle;\n",
       "    }\n",
       "\n",
       "    .dataframe tbody tr th {\n",
       "        vertical-align: top;\n",
       "    }\n",
       "\n",
       "    .dataframe thead th {\n",
       "        text-align: right;\n",
       "    }\n",
       "</style>\n",
       "<table border=\"1\" class=\"dataframe\">\n",
       "  <thead>\n",
       "    <tr style=\"text-align: right;\">\n",
       "      <th></th>\n",
       "      <th>id</th>\n",
       "      <th>buy_time</th>\n",
       "      <th>0</th>\n",
       "      <th>1</th>\n",
       "      <th>2</th>\n",
       "      <th>3</th>\n",
       "      <th>4</th>\n",
       "      <th>5</th>\n",
       "      <th>6</th>\n",
       "      <th>7</th>\n",
       "      <th>...</th>\n",
       "      <th>243</th>\n",
       "      <th>244</th>\n",
       "      <th>245</th>\n",
       "      <th>246</th>\n",
       "      <th>247</th>\n",
       "      <th>248</th>\n",
       "      <th>249</th>\n",
       "      <th>250</th>\n",
       "      <th>251</th>\n",
       "      <th>252</th>\n",
       "    </tr>\n",
       "  </thead>\n",
       "  <tbody>\n",
       "    <tr>\n",
       "      <th>3379</th>\n",
       "      <td>1510201</td>\n",
       "      <td>1541970000</td>\n",
       "      <td>349.350029</td>\n",
       "      <td>1289.570888</td>\n",
       "      <td>377.779214</td>\n",
       "      <td>1524.253202</td>\n",
       "      <td>372.361754</td>\n",
       "      <td>1503.14821</td>\n",
       "      <td>365.26382</td>\n",
       "      <td>316.273903</td>\n",
       "      <td>...</td>\n",
       "      <td>657.626154</td>\n",
       "      <td>962.229208</td>\n",
       "      <td>111.003731</td>\n",
       "      <td>199.369552</td>\n",
       "      <td>-156.747724</td>\n",
       "      <td>-6.832889</td>\n",
       "      <td>13.305572</td>\n",
       "      <td>-12.175933</td>\n",
       "      <td>-0.45614</td>\n",
       "      <td>0.0</td>\n",
       "    </tr>\n",
       "  </tbody>\n",
       "</table>\n",
       "<p>1 rows × 255 columns</p>\n",
       "</div>"
      ],
      "text/plain": [
       "           id    buy_time           0            1           2            3  \\\n",
       "3379  1510201  1541970000  349.350029  1289.570888  377.779214  1524.253202   \n",
       "\n",
       "               4           5          6           7  ...         243  \\\n",
       "3379  372.361754  1503.14821  365.26382  316.273903  ...  657.626154   \n",
       "\n",
       "             244         245         246         247       248        249  \\\n",
       "3379  962.229208  111.003731  199.369552 -156.747724 -6.832889  13.305572   \n",
       "\n",
       "            250      251  252  \n",
       "3379 -12.175933 -0.45614  0.0  \n",
       "\n",
       "[1 rows x 255 columns]"
      ]
     },
     "execution_count": 120,
     "metadata": {},
     "output_type": "execute_result"
    }
   ],
   "source": [
    "features_df.loc[(features_df['id']==1510201)]"
   ]
  },
  {
   "cell_type": "code",
   "execution_count": 121,
   "metadata": {},
   "outputs": [
    {
     "data": {
      "text/html": [
       "<div>\n",
       "<style scoped>\n",
       "    .dataframe tbody tr th:only-of-type {\n",
       "        vertical-align: middle;\n",
       "    }\n",
       "\n",
       "    .dataframe tbody tr th {\n",
       "        vertical-align: top;\n",
       "    }\n",
       "\n",
       "    .dataframe thead th {\n",
       "        text-align: right;\n",
       "    }\n",
       "</style>\n",
       "<table border=\"1\" class=\"dataframe\">\n",
       "  <thead>\n",
       "    <tr style=\"text-align: right;\">\n",
       "      <th></th>\n",
       "      <th>id</th>\n",
       "      <th>vas_id</th>\n",
       "      <th>buy_time</th>\n",
       "      <th>target</th>\n",
       "      <th>date</th>\n",
       "    </tr>\n",
       "  </thead>\n",
       "  <tbody>\n",
       "    <tr>\n",
       "      <th>449997</th>\n",
       "      <td>1510201</td>\n",
       "      <td>6.0</td>\n",
       "      <td>1544389200</td>\n",
       "      <td>1.0</td>\n",
       "      <td>2018-12-10</td>\n",
       "    </tr>\n",
       "    <tr>\n",
       "      <th>449996</th>\n",
       "      <td>1510201</td>\n",
       "      <td>4.0</td>\n",
       "      <td>1544994000</td>\n",
       "      <td>0.0</td>\n",
       "      <td>2018-12-17</td>\n",
       "    </tr>\n",
       "    <tr>\n",
       "      <th>449998</th>\n",
       "      <td>1510201</td>\n",
       "      <td>6.0</td>\n",
       "      <td>1544994000</td>\n",
       "      <td>1.0</td>\n",
       "      <td>2018-12-17</td>\n",
       "    </tr>\n",
       "  </tbody>\n",
       "</table>\n",
       "</div>"
      ],
      "text/plain": [
       "             id  vas_id    buy_time  target        date\n",
       "449997  1510201     6.0  1544389200     1.0  2018-12-10\n",
       "449996  1510201     4.0  1544994000     0.0  2018-12-17\n",
       "449998  1510201     6.0  1544994000     1.0  2018-12-17"
      ]
     },
     "execution_count": 121,
     "metadata": {},
     "output_type": "execute_result"
    }
   ],
   "source": [
    "train_df.loc[(train_df['id']==1510201)]"
   ]
  },
  {
   "cell_type": "code",
   "execution_count": 123,
   "metadata": {},
   "outputs": [],
   "source": [
    "data_train.to_csv(DATA_TRAIN_FEATURES_PATH, index=False)"
   ]
  },
  {
   "cell_type": "markdown",
   "metadata": {},
   "source": [
    "======================================================================================="
   ]
  },
  {
   "cell_type": "markdown",
   "metadata": {},
   "source": [
    "Выполним все вышеописаные операции для тестовой выборки."
   ]
  },
  {
   "cell_type": "code",
   "execution_count": 124,
   "metadata": {},
   "outputs": [],
   "source": [
    "import utils"
   ]
  },
  {
   "cell_type": "code",
   "execution_count": 125,
   "metadata": {},
   "outputs": [],
   "source": [
    "data_test = utils.prepare_dataset(users_data_df_PATH, FEATURES_PATH)"
   ]
  },
  {
   "cell_type": "code",
   "execution_count": 126,
   "metadata": {},
   "outputs": [
    {
     "data": {
      "text/html": [
       "<div>\n",
       "<style scoped>\n",
       "    .dataframe tbody tr th:only-of-type {\n",
       "        vertical-align: middle;\n",
       "    }\n",
       "\n",
       "    .dataframe tbody tr th {\n",
       "        vertical-align: top;\n",
       "    }\n",
       "\n",
       "    .dataframe thead th {\n",
       "        text-align: right;\n",
       "    }\n",
       "</style>\n",
       "<table border=\"1\" class=\"dataframe\">\n",
       "  <thead>\n",
       "    <tr style=\"text-align: right;\">\n",
       "      <th></th>\n",
       "      <th>id</th>\n",
       "      <th>vas_id</th>\n",
       "      <th>0</th>\n",
       "      <th>1</th>\n",
       "      <th>2</th>\n",
       "      <th>3</th>\n",
       "      <th>4</th>\n",
       "      <th>5</th>\n",
       "      <th>6</th>\n",
       "      <th>7</th>\n",
       "      <th>...</th>\n",
       "      <th>246</th>\n",
       "      <th>247</th>\n",
       "      <th>248</th>\n",
       "      <th>249</th>\n",
       "      <th>250</th>\n",
       "      <th>251</th>\n",
       "      <th>252</th>\n",
       "      <th>week_on_month</th>\n",
       "      <th>day</th>\n",
       "      <th>month</th>\n",
       "    </tr>\n",
       "  </thead>\n",
       "  <tbody>\n",
       "    <tr>\n",
       "      <th>0</th>\n",
       "      <td>2905850</td>\n",
       "      <td>5.0</td>\n",
       "      <td>326.930029</td>\n",
       "      <td>227.410888</td>\n",
       "      <td>312.989214</td>\n",
       "      <td>200.223202</td>\n",
       "      <td>307.571754</td>\n",
       "      <td>179.11821</td>\n",
       "      <td>-16.08618</td>\n",
       "      <td>-65.076097</td>\n",
       "      <td>...</td>\n",
       "      <td>-18.630448</td>\n",
       "      <td>-209.747724</td>\n",
       "      <td>-15.832889</td>\n",
       "      <td>-0.694428</td>\n",
       "      <td>-2.175933</td>\n",
       "      <td>-0.45614</td>\n",
       "      <td>0.0</td>\n",
       "      <td>1</td>\n",
       "      <td>7</td>\n",
       "      <td>1</td>\n",
       "    </tr>\n",
       "    <tr>\n",
       "      <th>1</th>\n",
       "      <td>31619</td>\n",
       "      <td>2.0</td>\n",
       "      <td>-96.799971</td>\n",
       "      <td>100.290888</td>\n",
       "      <td>-62.040786</td>\n",
       "      <td>250.953202</td>\n",
       "      <td>-67.458246</td>\n",
       "      <td>229.84821</td>\n",
       "      <td>-16.08618</td>\n",
       "      <td>-65.076097</td>\n",
       "      <td>...</td>\n",
       "      <td>-37.630448</td>\n",
       "      <td>-306.747724</td>\n",
       "      <td>-25.832889</td>\n",
       "      <td>-0.694428</td>\n",
       "      <td>-12.175933</td>\n",
       "      <td>-0.45614</td>\n",
       "      <td>0.0</td>\n",
       "      <td>1</td>\n",
       "      <td>7</td>\n",
       "      <td>1</td>\n",
       "    </tr>\n",
       "    <tr>\n",
       "      <th>2</th>\n",
       "      <td>1427271</td>\n",
       "      <td>6.0</td>\n",
       "      <td>-87.299971</td>\n",
       "      <td>-368.999112</td>\n",
       "      <td>339.439214</td>\n",
       "      <td>48.733202</td>\n",
       "      <td>334.021754</td>\n",
       "      <td>27.62821</td>\n",
       "      <td>-16.08618</td>\n",
       "      <td>-65.076097</td>\n",
       "      <td>...</td>\n",
       "      <td>-37.630448</td>\n",
       "      <td>116.252276</td>\n",
       "      <td>25.167111</td>\n",
       "      <td>-0.694428</td>\n",
       "      <td>38.824067</td>\n",
       "      <td>-0.45614</td>\n",
       "      <td>0.0</td>\n",
       "      <td>1</td>\n",
       "      <td>7</td>\n",
       "      <td>1</td>\n",
       "    </tr>\n",
       "    <tr>\n",
       "      <th>3</th>\n",
       "      <td>2162521</td>\n",
       "      <td>6.0</td>\n",
       "      <td>-96.799971</td>\n",
       "      <td>-20.459112</td>\n",
       "      <td>-110.740786</td>\n",
       "      <td>-34.936798</td>\n",
       "      <td>-116.158246</td>\n",
       "      <td>-56.04179</td>\n",
       "      <td>-16.08618</td>\n",
       "      <td>-65.076097</td>\n",
       "      <td>...</td>\n",
       "      <td>-37.630448</td>\n",
       "      <td>-298.747724</td>\n",
       "      <td>-24.832889</td>\n",
       "      <td>-0.694428</td>\n",
       "      <td>-11.175933</td>\n",
       "      <td>-0.45614</td>\n",
       "      <td>0.0</td>\n",
       "      <td>1</td>\n",
       "      <td>7</td>\n",
       "      <td>1</td>\n",
       "    </tr>\n",
       "    <tr>\n",
       "      <th>4</th>\n",
       "      <td>1529304</td>\n",
       "      <td>6.0</td>\n",
       "      <td>-96.799971</td>\n",
       "      <td>-394.439112</td>\n",
       "      <td>-110.740786</td>\n",
       "      <td>-447.046798</td>\n",
       "      <td>-116.158246</td>\n",
       "      <td>-468.15179</td>\n",
       "      <td>-16.08618</td>\n",
       "      <td>-54.636097</td>\n",
       "      <td>...</td>\n",
       "      <td>-37.630448</td>\n",
       "      <td>-306.747724</td>\n",
       "      <td>-25.832889</td>\n",
       "      <td>-0.694428</td>\n",
       "      <td>-12.175933</td>\n",
       "      <td>-0.45614</td>\n",
       "      <td>1.0</td>\n",
       "      <td>1</td>\n",
       "      <td>7</td>\n",
       "      <td>1</td>\n",
       "    </tr>\n",
       "  </tbody>\n",
       "</table>\n",
       "<p>5 rows × 258 columns</p>\n",
       "</div>"
      ],
      "text/plain": [
       "        id  vas_id           0           1           2           3  \\\n",
       "0  2905850     5.0  326.930029  227.410888  312.989214  200.223202   \n",
       "1    31619     2.0  -96.799971  100.290888  -62.040786  250.953202   \n",
       "2  1427271     6.0  -87.299971 -368.999112  339.439214   48.733202   \n",
       "3  2162521     6.0  -96.799971  -20.459112 -110.740786  -34.936798   \n",
       "4  1529304     6.0  -96.799971 -394.439112 -110.740786 -447.046798   \n",
       "\n",
       "            4          5         6          7  ...        246         247  \\\n",
       "0  307.571754  179.11821 -16.08618 -65.076097  ... -18.630448 -209.747724   \n",
       "1  -67.458246  229.84821 -16.08618 -65.076097  ... -37.630448 -306.747724   \n",
       "2  334.021754   27.62821 -16.08618 -65.076097  ... -37.630448  116.252276   \n",
       "3 -116.158246  -56.04179 -16.08618 -65.076097  ... -37.630448 -298.747724   \n",
       "4 -116.158246 -468.15179 -16.08618 -54.636097  ... -37.630448 -306.747724   \n",
       "\n",
       "         248       249        250      251  252  week_on_month  day  month  \n",
       "0 -15.832889 -0.694428  -2.175933 -0.45614  0.0              1    7      1  \n",
       "1 -25.832889 -0.694428 -12.175933 -0.45614  0.0              1    7      1  \n",
       "2  25.167111 -0.694428  38.824067 -0.45614  0.0              1    7      1  \n",
       "3 -24.832889 -0.694428 -11.175933 -0.45614  0.0              1    7      1  \n",
       "4 -25.832889 -0.694428 -12.175933 -0.45614  1.0              1    7      1  \n",
       "\n",
       "[5 rows x 258 columns]"
      ]
     },
     "execution_count": 126,
     "metadata": {},
     "output_type": "execute_result"
    }
   ],
   "source": [
    "data_test.head()"
   ]
  },
  {
   "cell_type": "code",
   "execution_count": 127,
   "metadata": {},
   "outputs": [],
   "source": [
    "data_test.to_csv(DATA_TEST_FEATURES_PATH, index=False)"
   ]
  }
 ],
 "metadata": {
  "interpreter": {
   "hash": "a5c640d2bd58ccd5da087649cd420729dab988865c87a53d754c4168c1e0597d"
  },
  "kernelspec": {
   "display_name": "Python 3.8.0 64-bit ('megafon_env': conda)",
   "name": "python3"
  },
  "language_info": {
   "codemirror_mode": {
    "name": "ipython",
    "version": 3
   },
   "file_extension": ".py",
   "mimetype": "text/x-python",
   "name": "python",
   "nbconvert_exporter": "python",
   "pygments_lexer": "ipython3",
   "version": "3.8.0"
  },
  "orig_nbformat": 4
 },
 "nbformat": 4,
 "nbformat_minor": 2
}
